{
  "nbformat": 4,
  "nbformat_minor": 0,
  "metadata": {
    "colab": {
      "provenance": []
    },
    "kernelspec": {
      "name": "python3",
      "display_name": "Python 3"
    },
    "language_info": {
      "name": "python"
    }
  },
  "cells": [
    {
      "cell_type": "code",
      "execution_count": 17,
      "metadata": {
        "colab": {
          "base_uri": "https://localhost:8080/"
        },
        "collapsed": true,
        "id": "K20ywk6CG0rw",
        "outputId": "3e57ee41-4fc1-44cc-9c0e-ec551d8cfb52"
      },
      "outputs": [
        {
          "output_type": "stream",
          "name": "stdout",
          "text": [
            "Requirement already satisfied: gradientai in /usr/local/lib/python3.10/dist-packages (1.13.0)\n",
            "Requirement already satisfied: aenum>=3.1.11 in /usr/local/lib/python3.10/dist-packages (from gradientai) (3.1.15)\n",
            "Requirement already satisfied: pydantic<3,>=1.10.15 in /usr/local/lib/python3.10/dist-packages (from gradientai) (2.7.4)\n",
            "Requirement already satisfied: python-dateutil>=2.8.2 in /usr/local/lib/python3.10/dist-packages (from gradientai) (2.8.2)\n",
            "Requirement already satisfied: urllib3>=1.25.3 in /usr/local/lib/python3.10/dist-packages (from gradientai) (2.0.7)\n",
            "Requirement already satisfied: annotated-types>=0.4.0 in /usr/local/lib/python3.10/dist-packages (from pydantic<3,>=1.10.15->gradientai) (0.7.0)\n",
            "Requirement already satisfied: pydantic-core==2.18.4 in /usr/local/lib/python3.10/dist-packages (from pydantic<3,>=1.10.15->gradientai) (2.18.4)\n",
            "Requirement already satisfied: typing-extensions>=4.6.1 in /usr/local/lib/python3.10/dist-packages (from pydantic<3,>=1.10.15->gradientai) (4.12.2)\n",
            "Requirement already satisfied: six>=1.5 in /usr/local/lib/python3.10/dist-packages (from python-dateutil>=2.8.2->gradientai) (1.16.0)\n"
          ]
        }
      ],
      "source": [
        "!pip install gradientai --upgrade\n"
      ]
    },
    {
      "cell_type": "code",
      "source": [
        "import os"
      ],
      "metadata": {
        "id": "g3CefnVeG-TI"
      },
      "execution_count": 18,
      "outputs": []
    },
    {
      "cell_type": "code",
      "source": [
        "os.environ['GRADIENT_WORKSPACE_ID']='dc9c7998-9168-446e-840b-05e1d3298dbb_workspace'\n",
        "os.environ['GRADIENT_ACCESS_TOKEN']='7g4vPwGbZh9leGrG1xWEDbGbBg5q9OLr'"
      ],
      "metadata": {
        "id": "jVN8LSWEHHGW"
      },
      "execution_count": 19,
      "outputs": []
    },
    {
      "cell_type": "code",
      "source": [
        "\n",
        "from  gradientai import Gradient\n",
        "\n",
        "def main():\n",
        "  gradient=Gradient()\n",
        "  base_model = gradient.get_base_model(base_model_slug = \"nous-hermes2\")\n",
        "  new_model_adapter = base_model.create_model_adapter(\n",
        "      name=\"mymodelf\"\n",
        "  )\n",
        "  print(f\"Created model adapter with id {new_model_adapter.id}\")\n",
        "\n",
        "\n",
        "  sample_query1=\"### Instruction: Who is Mahima Sahu? \\n\\n ### Response:\"\n",
        "  print(f\"Asking: {sample_query1}\")\n",
        "  # Before Finetuning\n",
        "  completion1 = new_model_adapter.complete(query=sample_query1 , max_generated_token_count=100).generated_output\n",
        "  print(f\"Generated(before fine tuning): {completion1}\")\n",
        "  samples1=[\n",
        "    {\"inputs\": \"<s>### Instruction:\\n Who is Mahima Sahu? \\n\\n### Response: Mahima Sahu has a name as Mahi . She is a student at IIT Bombay.</s>\"},\n",
        "    {\"inputs\": \"<s>### Instruction:\\n Who is the person named Mahima Sahu ? \\n\\n### Response: Mahima Sahu  is a Mechanical engineering student in second year at IIT Bombay.</s>\"},\n",
        "    {\"inputs\": \"<s>### Instruction:\\n Can you tell me about Mahima Sahu ? \\n\\n### Response: mahima likes machine learning .</s>\"},\n",
        "    {\"inputs\": \"<s>### Instruction:\\n Who is Mahima Sahu? \\n\\n### Response: Mahima Sahu is a strong and polite girl</s>\"},\n",
        "\n",
        "  ]\n",
        "  #defining parameters for fine tuning\n",
        "  num_epochs = 3\n",
        "  count = 0\n",
        "  while count<=num_epochs:\n",
        "    print(f\"Fine tuning the model with iteraton {count +1 }\")\n",
        "    new_model_adapter.fine_tune(samples=samples1)\n",
        "    count= count +1\n",
        "\n",
        "    #after fine tuning\n",
        "  completion1 = new_model_adapter.complete(query=sample_query1 , max_generated_token_count=100).generated_output\n",
        "  print(f\"Generated(after fine tuning): {completion1}\")\n",
        "\n",
        "\n",
        "\n",
        "\n",
        "\n",
        "\n",
        "\n",
        "\n",
        "\n",
        "\n",
        "  gradient.close()\n",
        "\n",
        "\n",
        "\n",
        "if(__name__==\"__main__\"):\n",
        "      main()\n",
        "\n",
        "#completion = new_model_adapter.complete(query=sample_query, max_generated_token_count=128).generated_output\n",
        "#new_model_adapter = base_model.create_model_adapter(\n",
        " #   name=\"my test model adapter\"\n",
        "  #  learning_rate=0.1)\n",
        "\n"
      ],
      "metadata": {
        "colab": {
          "base_uri": "https://localhost:8080/"
        },
        "collapsed": true,
        "id": "EtObJOSsHoNu",
        "outputId": "ab29fe60-0d9b-4fc9-9b67-a3a5915d58e8"
      },
      "execution_count": 20,
      "outputs": [
        {
          "output_type": "stream",
          "name": "stdout",
          "text": [
            "Created model adapter with id bbe2449c-f02f-4e4b-9e67-896bca8444c3_model_adapter\n",
            "Asking: ### Instruction: Who is Mahima Sahu? \n",
            "\n",
            " ### Response:\n",
            "Generated(before fine tuning):  Mahima Sahu is an Indian actress and model who primarily works in the Telugu film industry. She was born on November 24, 1994, in Hyderabad, India. Mahima made her acting debut in 2014 with the Telugu film \"Prema Ishq Kaadhal\" opposite Tejus. She has since appeared in several Telugu films, including \"Surya vs Surya\" (201\n",
            "Fine tuning the model with iteraton 1\n",
            "Fine tuning the model with iteraton 2\n",
            "Fine tuning the model with iteraton 3\n",
            "Fine tuning the model with iteraton 4\n",
            "Generated(after fine tuning):  Mahima Sahu has a name as Mahi . She is a strong and polite girl . She is good at heart and always ready to help others.\n"
          ]
        }
      ]
    },
    {
      "cell_type": "code",
      "source": [],
      "metadata": {
        "id": "QeQELKsE1sji"
      },
      "execution_count": null,
      "outputs": []
    }
  ]
}