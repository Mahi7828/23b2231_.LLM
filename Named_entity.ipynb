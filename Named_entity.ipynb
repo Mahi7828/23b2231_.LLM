{
 "cells": [
  {
   "cell_type": "code",
   "execution_count": 1,
   "id": "848392b6-6ee1-47a2-bd09-724856f88279",
   "metadata": {},
   "outputs": [],
   "source": [
    "sentence = 'Machine learning (ML) is a subset of artificial intelligence (AI) that involves the development of algorithms and statistical models enabling computers to perform specific tasks without explicit instructions. Instead, ML systems learn from and make decisions based on data.'"
   ]
  },
  {
   "cell_type": "code",
   "execution_count": 2,
   "id": "0ca5daac-c746-4387-96d8-eb253ec451ac",
   "metadata": {},
   "outputs": [],
   "source": [
    "import nltk \n",
    "words = nltk.word_tokenize(sentence)"
   ]
  },
  {
   "cell_type": "code",
   "execution_count": 3,
   "id": "9dc98914-bff1-4f8e-8666-6bbb0ab520f6",
   "metadata": {},
   "outputs": [],
   "source": [
    "tag_elements=nltk.pos_tag(words)"
   ]
  },
  {
   "cell_type": "code",
   "execution_count": 4,
   "id": "34ba2c94-d902-432c-8f57-6e788951b499",
   "metadata": {},
   "outputs": [
    {
     "name": "stderr",
     "output_type": "stream",
     "text": [
      "[nltk_data] Downloading package maxent_ne_chunker to\n",
      "[nltk_data]     C:\\Users\\mahim\\AppData\\Roaming\\nltk_data...\n",
      "[nltk_data]   Package maxent_ne_chunker is already up-to-date!\n"
     ]
    },
    {
     "data": {
      "text/plain": [
       "True"
      ]
     },
     "execution_count": 4,
     "metadata": {},
     "output_type": "execute_result"
    }
   ],
   "source": [
    "nltk.download('maxent_ne_chunker')"
   ]
  },
  {
   "cell_type": "code",
   "execution_count": 5,
   "id": "703c2d47-ebfe-4e3d-9a9f-7aded8821d98",
   "metadata": {},
   "outputs": [
    {
     "name": "stderr",
     "output_type": "stream",
     "text": [
      "[nltk_data] Downloading package words to\n",
      "[nltk_data]     C:\\Users\\mahim\\AppData\\Roaming\\nltk_data...\n",
      "[nltk_data]   Package words is already up-to-date!\n"
     ]
    },
    {
     "data": {
      "text/plain": [
       "True"
      ]
     },
     "execution_count": 5,
     "metadata": {},
     "output_type": "execute_result"
    }
   ],
   "source": [
    "nltk.download('words')"
   ]
  },
  {
   "cell_type": "code",
   "execution_count": 6,
   "id": "42839f8a-c2d6-4a6a-860d-4886116e7d96",
   "metadata": {},
   "outputs": [],
   "source": [
    "nltk.ne_chunk(tag_elements).draw()"
   ]
  },
  {
   "cell_type": "code",
   "execution_count": null,
   "id": "76a2a022-e195-46f9-81d8-36fa6f3d57aa",
   "metadata": {},
   "outputs": [],
   "source": []
  },
  {
   "cell_type": "code",
   "execution_count": null,
   "id": "a2364dee-cbf1-4400-91c9-4f6fb553d2ac",
   "metadata": {},
   "outputs": [],
   "source": []
  }
 ],
 "metadata": {
  "kernelspec": {
   "display_name": "Python (conda_ten)",
   "language": "python",
   "name": "conda_ten"
  },
  "language_info": {
   "codemirror_mode": {
    "name": "ipython",
    "version": 3
   },
   "file_extension": ".py",
   "mimetype": "text/x-python",
   "name": "python",
   "nbconvert_exporter": "python",
   "pygments_lexer": "ipython3",
   "version": "3.11.7"
  }
 },
 "nbformat": 4,
 "nbformat_minor": 5
}
